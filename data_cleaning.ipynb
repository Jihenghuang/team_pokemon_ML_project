{
 "cells": [
  {
   "cell_type": "markdown",
   "metadata": {},
   "source": [
    "### Data Cleaning / Merging"
   ]
  },
  {
   "cell_type": "code",
   "execution_count": 1,
   "metadata": {
    "collapsed": false
   },
   "outputs": [
    {
     "name": "stdout",
     "output_type": "stream",
     "text": [
      "Populating the interactive namespace from numpy and matplotlib\n"
     ]
    }
   ],
   "source": [
    "# some imports\n",
    "import pandas as pd\n",
    "import numpy as np\n",
    "import csv\n",
    "%pylab inline"
   ]
  },
  {
   "cell_type": "code",
   "execution_count": 2,
   "metadata": {
    "collapsed": false
   },
   "outputs": [
    {
     "name": "stderr",
     "output_type": "stream",
     "text": [
      "c:\\Users\\docmario\\Anaconda3\\lib\\site-packages\\IPython\\core\\interactiveshell.py:2723: DtypeWarning: Columns (1,4,7,14,18,21,27,30,43,49,52,62,64,66,70,84,89,92,100) have mixed types. Specify dtype option on import or set low_memory=False.\n",
      "  interactivity=interactivity, compiler=compiler, result=result)\n"
     ]
    }
   ],
   "source": [
    "# load data (converted from json to csv using yelp git repo converter) (takes a few min)\n",
    "# data structure: https://www.yelp.co.uk/dataset_challenge/dataset\n",
    "business = pd.read_csv('yelp_academic_dataset_business.csv')\n",
    "review = pd.read_csv('yelp_academic_dataset_review.csv')\n",
    "#user = pd.read_csv('yelp_academic_dataset_user.csv')"
   ]
  },
  {
   "cell_type": "code",
   "execution_count": 3,
   "metadata": {
    "collapsed": false
   },
   "outputs": [],
   "source": [
    "# merge datasets\n",
    "merged = pd.merge(review,business,on='business_id')"
   ]
  },
  {
   "cell_type": "code",
   "execution_count": 4,
   "metadata": {
    "collapsed": true
   },
   "outputs": [],
   "source": [
    "subset = merged[['name', 'state', 'city', 'stars_y', 'categories', 'stars_x', 'text']]"
   ]
  },
  {
   "cell_type": "code",
   "execution_count": 5,
   "metadata": {
    "collapsed": false
   },
   "outputs": [
    {
     "data": {
      "text/plain": [
       "'for c in cols:\\n    u = np.unique(merged[c])\\n    if len(u) != 3:\\n        print(c,u)'"
      ]
     },
     "execution_count": 5,
     "metadata": {},
     "output_type": "execute_result"
    }
   ],
   "source": [
    "# Figure out which attributes are boolean and which are values\n",
    "cols = [x for x in merged.columns.tolist() if 'attributes' in x]"
   ]
  },
  {
   "cell_type": "code",
   "execution_count": 6,
   "metadata": {
    "collapsed": true
   },
   "outputs": [],
   "source": [
    "# Handle these columns specially\n",
    "\n",
    "# First set have a \"false\" value\n",
    "special_cols = {\n",
    "    'attributes.Alcohol': 'none',\n",
    "    'attributes.BYOB/Corkage': 'no',\n",
    "    'attributes.Wi-Fi': 'no',\n",
    "    'attributes.Smoking': 'no'\n",
    "}\n",
    "\n",
    "# Second set don't\n",
    "special_cols_2 = [\n",
    "    'attributes.Ages Allowed',\n",
    "    'attributes.Price Range',\n",
    "    'attributes.Noise Level',\n",
    "    'attributes.Attire'\n",
    "]"
   ]
  },
  {
   "cell_type": "code",
   "execution_count": 7,
   "metadata": {
    "collapsed": false
   },
   "outputs": [
    {
     "name": "stderr",
     "output_type": "stream",
     "text": [
      "c:\\Users\\docmario\\Anaconda3\\lib\\site-packages\\ipykernel\\__main__.py:2: SettingWithCopyWarning: \n",
      "A value is trying to be set on a copy of a slice from a DataFrame.\n",
      "Try using .loc[row_indexer,col_indexer] = value instead\n",
      "\n",
      "See the caveats in the documentation: http://pandas.pydata.org/pandas-docs/stable/indexing.html#indexing-view-versus-copy\n",
      "  from ipykernel import kernelapp as app\n",
      "c:\\Users\\docmario\\Anaconda3\\lib\\site-packages\\ipykernel\\__main__.py:16: SettingWithCopyWarning: \n",
      "A value is trying to be set on a copy of a slice from a DataFrame\n",
      "\n",
      "See the caveats in the documentation: http://pandas.pydata.org/pandas-docs/stable/indexing.html#indexing-view-versus-copy\n",
      "c:\\Users\\docmario\\Anaconda3\\lib\\site-packages\\pandas\\core\\generic.py:4428: SettingWithCopyWarning: \n",
      "A value is trying to be set on a copy of a slice from a DataFrame\n",
      "\n",
      "See the caveats in the documentation: http://pandas.pydata.org/pandas-docs/stable/indexing.html#indexing-view-versus-copy\n",
      "  self._update_inplace(new_data)\n",
      "c:\\Users\\docmario\\Anaconda3\\lib\\site-packages\\IPython\\core\\interactiveshell.py:2885: SettingWithCopyWarning: \n",
      "A value is trying to be set on a copy of a slice from a DataFrame\n",
      "\n",
      "See the caveats in the documentation: http://pandas.pydata.org/pandas-docs/stable/indexing.html#indexing-view-versus-copy\n",
      "  exec(code_obj, self.user_global_ns, self.user_ns)\n",
      "c:\\Users\\docmario\\Anaconda3\\lib\\site-packages\\ipykernel\\__main__.py:11: SettingWithCopyWarning: \n",
      "A value is trying to be set on a copy of a slice from a DataFrame\n",
      "\n",
      "See the caveats in the documentation: http://pandas.pydata.org/pandas-docs/stable/indexing.html#indexing-view-versus-copy\n",
      "c:\\Users\\docmario\\Anaconda3\\lib\\site-packages\\ipykernel\\__main__.py:13: SettingWithCopyWarning: \n",
      "A value is trying to be set on a copy of a slice from a DataFrame\n",
      "\n",
      "See the caveats in the documentation: http://pandas.pydata.org/pandas-docs/stable/indexing.html#indexing-view-versus-copy\n",
      "c:\\Users\\docmario\\Anaconda3\\lib\\site-packages\\ipykernel\\__main__.py:19: SettingWithCopyWarning: \n",
      "A value is trying to be set on a copy of a slice from a DataFrame\n",
      "\n",
      "See the caveats in the documentation: http://pandas.pydata.org/pandas-docs/stable/indexing.html#indexing-view-versus-copy\n"
     ]
    }
   ],
   "source": [
    "# Create a single attributes column\n",
    "subset['attributes'] = \"\"\n",
    "\n",
    "# For each column\n",
    "for c in cols:\n",
    "    # Don't add for null rows\n",
    "    b = ~pd.isnull(merged[c])\n",
    "    \n",
    "    if c in special_cols:\n",
    "        b = b&(merged[c] != special_cols[c])\n",
    "        subset['attributes'][b] += \";\" + c[11:] + '=' + merged[c][b].astype(str)\n",
    "    elif c in special_cols_2:\n",
    "        subset['attributes'][b] += \";\" + c[11:] + '=' + merged[c][b].astype(str)\n",
    "    else:\n",
    "        b = b & (merged[c].astype(bool))\n",
    "        subset['attributes'][b] += \";\" + c[11:]\n",
    "        \n",
    "# Strip leading semicolon\n",
    "subset['attributes'][subset['attributes'] != \"\"] = subset['attributes'][subset['attributes'] != \"\"].str[1:]"
   ]
  },
  {
   "cell_type": "code",
   "execution_count": 8,
   "metadata": {
    "collapsed": false
   },
   "outputs": [
    {
     "name": "stderr",
     "output_type": "stream",
     "text": [
      "c:\\Users\\docmario\\Anaconda3\\lib\\site-packages\\ipykernel\\__main__.py:2: SettingWithCopyWarning: \n",
      "A value is trying to be set on a copy of a slice from a DataFrame.\n",
      "Try using .loc[row_indexer,col_indexer] = value instead\n",
      "\n",
      "See the caveats in the documentation: http://pandas.pydata.org/pandas-docs/stable/indexing.html#indexing-view-versus-copy\n",
      "  from ipykernel import kernelapp as app\n",
      "c:\\Users\\docmario\\Anaconda3\\lib\\site-packages\\ipykernel\\__main__.py:3: SettingWithCopyWarning: \n",
      "A value is trying to be set on a copy of a slice from a DataFrame.\n",
      "Try using .loc[row_indexer,col_indexer] = value instead\n",
      "\n",
      "See the caveats in the documentation: http://pandas.pydata.org/pandas-docs/stable/indexing.html#indexing-view-versus-copy\n",
      "  app.launch_new_instance()\n",
      "c:\\Users\\docmario\\Anaconda3\\lib\\site-packages\\ipykernel\\__main__.py:4: SettingWithCopyWarning: \n",
      "A value is trying to be set on a copy of a slice from a DataFrame.\n",
      "Try using .loc[row_indexer,col_indexer] = value instead\n",
      "\n",
      "See the caveats in the documentation: http://pandas.pydata.org/pandas-docs/stable/indexing.html#indexing-view-versus-copy\n"
     ]
    }
   ],
   "source": [
    "# clean text of special characters and leading/trailing spaces\n",
    "subset['text'] = subset['text'].str.replace('\\n', ' ').str.strip()\n",
    "subset['text'] = subset['text'].str.replace('\\f', ' ')\n",
    "subset['text'] = subset['text'].str.replace('\\t', ' ')"
   ]
  },
  {
   "cell_type": "code",
   "execution_count": 10,
   "metadata": {
    "collapsed": false
   },
   "outputs": [
    {
     "name": "stdout",
     "output_type": "stream",
     "text": [
      "781 categories\n"
     ]
    }
   ],
   "source": [
    "# pivot out categories column \n",
    "import ast\n",
    "\n",
    "L = [] # empty list to store categories\n",
    "\n",
    "for l in subset.categories.unique():\n",
    "    L.extend(ast.literal_eval(l)) # literal turns string list into list list\n",
    "\n",
    "print(len(set(L)), 'categories')\n",
    "cat = list(set(L)) # store distinct list"
   ]
  },
  {
   "cell_type": "code",
   "execution_count": 26,
   "metadata": {
    "collapsed": false
   },
   "outputs": [],
   "source": [
    "# Create individual csvs for a category and score\n",
    "for c in ['Pizza']:\n",
    "    for r in range(1,6):\n",
    "        subset[subset['categories'].str.contains(c) & (subset['stars_x'] == r)][['text']].to_csv('%s_%s' % (c,r), index=False, quoting=csv.QUOTE_NONE, sep='\\t')"
   ]
  },
  {
   "cell_type": "code",
   "execution_count": null,
   "metadata": {
    "collapsed": true
   },
   "outputs": [],
   "source": []
  }
 ],
 "metadata": {
  "kernelspec": {
   "display_name": "Python 3",
   "language": "python",
   "name": "python3"
  },
  "language_info": {
   "codemirror_mode": {
    "name": "ipython",
    "version": 3
   },
   "file_extension": ".py",
   "mimetype": "text/x-python",
   "name": "python",
   "nbconvert_exporter": "python",
   "pygments_lexer": "ipython3",
   "version": "3.5.1"
  }
 },
 "nbformat": 4,
 "nbformat_minor": 0
}
