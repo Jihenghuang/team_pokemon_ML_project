{
 "cells": [
  {
   "cell_type": "code",
   "execution_count": 1,
   "metadata": {
    "collapsed": false
   },
   "outputs": [
    {
     "name": "stdout",
     "output_type": "stream",
     "text": [
      "Populating the interactive namespace from numpy and matplotlib\n"
     ]
    }
   ],
   "source": [
    "# Display plots in the notebook\n",
    "%pylab inline"
   ]
  },
  {
   "cell_type": "code",
   "execution_count": 2,
   "metadata": {
    "collapsed": true
   },
   "outputs": [],
   "source": [
    "# Common imports\n",
    "import numpy as np\n",
    "import pylab as pl\n",
    "import pandas as pd\n",
    "import sqlite3"
   ]
  },
  {
   "cell_type": "code",
   "execution_count": 3,
   "metadata": {
    "collapsed": true
   },
   "outputs": [],
   "source": [
    "# Make plots prettyful\n",
    "pl.style.use('fivethirtyeight')"
   ]
  },
  {
   "cell_type": "code",
   "execution_count": 4,
   "metadata": {
    "collapsed": false
   },
   "outputs": [],
   "source": [
    "# Read sqlite query results into a pandas DataFrame\n",
    "con = sqlite3.connect(\"yelp.db\")\n",
    "# do your sql queries here, jeremy, in case you didn't already\n",
    "# realize that\n",
    "df = pd.read_sql_query(\"SELECT reviews.id,reviews.review,reviews.class,votes.vote from reviews,votes where reviews.id=votes.rid\", con)\n",
    "con.close()"
   ]
  },
  {
   "cell_type": "code",
   "execution_count": 5,
   "metadata": {
    "collapsed": false
   },
   "outputs": [],
   "source": [
    "classes = np.unique(df['class'])"
   ]
  },
  {
   "cell_type": "code",
   "execution_count": 6,
   "metadata": {
    "collapsed": false
   },
   "outputs": [
    {
     "data": {
      "text/plain": [
       "array([u'fake_100000', u'fake_120000', u'fake_20000', u'fake_40000',\n",
       "       u'fake_60000', u'fake_80000', u'fake_pizza_1_temp_1',\n",
       "       u'fake_pizza_1_temp_6', u'fake_pizza_1_temp_7',\n",
       "       u'fake_pizza_1_temp_8', u'fake_pizza_1_temp_9',\n",
       "       u'fake_pizza_2_temp_1', u'fake_pizza_2_temp_5',\n",
       "       u'fake_pizza_2_temp_7', u'fake_pizza_2_temp_8',\n",
       "       u'fake_pizza_2_temp_9', u'fake_pizza_5_temp_1',\n",
       "       u'fake_pizza_5_temp_5', u'fake_pizza_5_temp_6',\n",
       "       u'fake_pizza_5_temp_7', u'fake_pizza_5_temp_8',\n",
       "       u'fake_pizza_5_temp_9', u'real'], dtype=object)"
      ]
     },
     "execution_count": 6,
     "metadata": {},
     "output_type": "execute_result"
    }
   ],
   "source": [
    "classes"
   ]
  },
  {
   "cell_type": "code",
   "execution_count": 15,
   "metadata": {
    "collapsed": false
   },
   "outputs": [
    {
     "data": {
      "text/plain": [
       "0      real\n",
       "1      real\n",
       "2      real\n",
       "3      real\n",
       "4      fake\n",
       "5      real\n",
       "6      real\n",
       "7      real\n",
       "8      real\n",
       "9      real\n",
       "10     real\n",
       "11     fake\n",
       "12     real\n",
       "13     fake\n",
       "14     real\n",
       "15     real\n",
       "16     real\n",
       "17     real\n",
       "18     fake\n",
       "19     real\n",
       "20     fake\n",
       "21     real\n",
       "22     fake\n",
       "23     fake\n",
       "24     real\n",
       "25     fake\n",
       "26     real\n",
       "27     real\n",
       "28     fake\n",
       "29     real\n",
       "       ... \n",
       "837    fake\n",
       "838    real\n",
       "839    real\n",
       "840    real\n",
       "841    real\n",
       "842    fake\n",
       "843    real\n",
       "844    real\n",
       "845    real\n",
       "846    fake\n",
       "847    real\n",
       "848    real\n",
       "849    fake\n",
       "850    real\n",
       "851    real\n",
       "852    real\n",
       "853    fake\n",
       "854    real\n",
       "855    real\n",
       "856    real\n",
       "857    fake\n",
       "858    real\n",
       "859    fake\n",
       "860    fake\n",
       "861    real\n",
       "862    fake\n",
       "863    fake\n",
       "864    real\n",
       "865    fake\n",
       "866    fake\n",
       "dtype: object"
      ]
     },
     "execution_count": 15,
     "metadata": {},
     "output_type": "execute_result"
    }
   ],
   "source": [
    "df['class'].str.split('_').apply(lambda x: x[0])"
   ]
  },
  {
   "cell_type": "code",
   "execution_count": 20,
   "metadata": {
    "collapsed": false
   },
   "outputs": [
    {
     "name": "stdout",
     "output_type": "stream",
     "text": [
      "Total accuracy\n",
      "0.801614763552\n"
     ]
    }
   ],
   "source": [
    "correct = df[df['vote'] == df['class'].str.split('_').apply(lambda x: x[0])]\n",
    "print \"Total accuracy\"\n",
    "print 1.*len(correct)/len(df)"
   ]
  },
  {
   "cell_type": "code",
   "execution_count": 25,
   "metadata": {
    "collapsed": false
   },
   "outputs": [
    {
     "name": "stdout",
     "output_type": "stream",
     "text": [
      "Total accuracy (without pizza)\n",
      "0.82991202346\n"
     ]
    }
   ],
   "source": [
    "subset = df[~df['class'].str.contains('pizza')]\n",
    "correct = subset[subset['vote'] == subset['class'].str.split('_').apply(lambda x: x[0])]\n",
    "print \"Total accuracy (without pizza)\"\n",
    "print 1.*len(correct)/len(subset)"
   ]
  },
  {
   "cell_type": "code",
   "execution_count": 26,
   "metadata": {
    "collapsed": false,
    "scrolled": false
   },
   "outputs": [
    {
     "name": "stdout",
     "output_type": "stream",
     "text": [
      "fake_100000 Accuracy =  0.926829268293 (Sample size 41)\n",
      "fake_120000 Accuracy =  0.8 (Sample size 55)\n",
      "fake_20000 Accuracy =  0.794117647059 (Sample size 34)\n",
      "fake_40000 Accuracy =  0.813953488372 (Sample size 43)\n",
      "fake_60000 Accuracy =  0.857142857143 (Sample size 28)\n",
      "fake_80000 Accuracy =  0.833333333333 (Sample size 48)\n",
      "fake_pizza_1_temp_1 Accuracy =  0.894736842105 (Sample size 19)\n",
      "fake_pizza_1_temp_6 Accuracy =  0.5 (Sample size 2)\n",
      "fake_pizza_1_temp_7 Accuracy =  0.4 (Sample size 5)\n",
      "fake_pizza_1_temp_8 Accuracy =  1.0 (Sample size 4)\n",
      "fake_pizza_1_temp_9 Accuracy =  0.5 (Sample size 6)\n",
      "fake_pizza_2_temp_1 Accuracy =  1.0 (Sample size 21)\n",
      "fake_pizza_2_temp_5 Accuracy =  1.0 (Sample size 1)\n",
      "fake_pizza_2_temp_7 Accuracy =  0.666666666667 (Sample size 3)\n",
      "fake_pizza_2_temp_8 Accuracy =  0.833333333333 (Sample size 6)\n",
      "fake_pizza_2_temp_9 Accuracy =  0.714285714286 (Sample size 7)\n",
      "fake_pizza_5_temp_1 Accuracy =  0.727272727273 (Sample size 33)\n",
      "fake_pizza_5_temp_5 Accuracy =  0.5 (Sample size 8)\n",
      "fake_pizza_5_temp_6 Accuracy =  0.25 (Sample size 4)\n",
      "fake_pizza_5_temp_7 Accuracy =  0.5625 (Sample size 16)\n",
      "fake_pizza_5_temp_8 Accuracy =  0.666666666667 (Sample size 33)\n",
      "fake_pizza_5_temp_9 Accuracy =  0.470588235294 (Sample size 17)\n",
      "real Accuracy =  0.826789838337 (Sample size 433)\n"
     ]
    }
   ],
   "source": [
    "for cls in classes:\n",
    "    subset = df[df['class'] == cls]\n",
    "    if len(subset) == 0:\n",
    "        continue\n",
    "        \n",
    "    #print(cls,len(subset))\n",
    "    correct = subset[subset['vote'] == cls.split('_')[0]]\n",
    "    incorrect = subset[subset['vote'] != cls.split('_')[0]]\n",
    "    print cls, \"Accuracy = \", 1.*len(correct)/len(subset), \"(Sample size %s)\" % len(subset)\n",
    "    #print \"\\nsample\\n-----\"\n",
    "    #print incorrect.iloc[0]['review'] if len(incorrect) else subset.iloc[0]['review'],'\\n\\n\\n'"
   ]
  },
  {
   "cell_type": "code",
   "execution_count": 23,
   "metadata": {
    "collapsed": true
   },
   "outputs": [],
   "source": [
    "df"
   ]
  },
  {
   "cell_type": "code",
   "execution_count": 27,
   "metadata": {
    "collapsed": false
   },
   "outputs": [
    {
     "name": "stdout",
     "output_type": "stream",
     "text": [
      "real 2\n",
      "Great level of personal attention from a great doctor.  Dr. Mozayeni took the time to answear all of my questions.  I went from wearing glasses my whole life to 20/20 vision now.  I would highly recommend that you check them out if you are considering LASIK as they do a free consultation. \n",
      "\n",
      "real 2\n",
      "I have been going to Athletic Club South End since it opened. Recently, they have changed their name to EVOLUTION. They are focused on martial arts, yoga, fitness training and functional training. They have great massage therapists on staff and awesome classes.   The staff is very friendly and foster a family atmosphere.  Trainers are top notch. I actually refer my clients to them for personal training, massage, VO2 testing, and yoga classes.  My four kids take Budokan - a mix of yoga, martial arts and meditation there as well. \n",
      "\n",
      "fake_20000 2\n",
      "Always delicious! \n",
      "\n",
      "fake_60000 2\n",
      "I ate at Town Deptt eating here one night and called on a bad meal. Seriously located on a pair to give the center bond for you to get every 8 min and they saighten to it.  The chicken is a mug sandwich sub, but the service the malls are paying for a hefty Southeas to for a nice out the way.    I would probably be funny but if the people were simply delicious! Worse beer specials, score = 2 for free, you can see..... and I got a little slow. But I'm a woman drop out to take our order frozen microly and had much more non-usually no that would have been quite frozen but not their Thursday part of my favorite (didn't hurt area to go to and domang at 113 the hell asked what you're good).  That is over $40.  I had the halfac painted arch friendly staff! For plus, so go Arrange from being weekly but when all the phones are missing it's so yummy, but no need to be ready as a seat.  I have not been to the manager on a Saturday or hates 77 for kids was di, but hey gives me bad, fun would be a bit skeptical attention to the establishment! \n",
      "\n",
      "fake_pizza_5_temp_1 2\n",
      "Pizzas, holy mellow spinach cream sauce. Crust is not thin, crisp, but still really good. \n",
      "\n",
      "fake_pizza_5_temp_1 2\n",
      "Sauce is the best. There's a greater pizza for any New York Style thin crust with pine nuts to choose from! \n",
      "\n"
     ]
    }
   ],
   "source": [
    "con = sqlite3.connect(\"yelp.db\")\n",
    "# do your sql queries here, jeremy, in case you didn't already\n",
    "# realize that\n",
    "df2 = pd.read_sql_query(\"SELECT reviews.review,reviews.class, COUNT(*) from reviews,votes where reviews.id=votes.rid and not reviews.class like votes.vote || '%' GROUP BY reviews.id ORDER BY COUNT(*) DESC\", con)\n",
    "con.close()\n",
    "\n",
    "for r in df2.index[:6]:\n",
    "    print df2.iloc[r]['class'], df2.iloc[r]['COUNT(*)']\n",
    "    print df2.iloc[r]['review'], '\\n'"
   ]
  },
  {
   "cell_type": "code",
   "execution_count": null,
   "metadata": {
    "collapsed": true
   },
   "outputs": [],
   "source": []
  }
 ],
 "metadata": {
  "kernelspec": {
   "display_name": "Python 2",
   "language": "python",
   "name": "python2"
  },
  "language_info": {
   "codemirror_mode": {
    "name": "ipython",
    "version": 2
   },
   "file_extension": ".py",
   "mimetype": "text/x-python",
   "name": "python",
   "nbconvert_exporter": "python",
   "pygments_lexer": "ipython2",
   "version": "2.7.10"
  }
 },
 "nbformat": 4,
 "nbformat_minor": 0
}
