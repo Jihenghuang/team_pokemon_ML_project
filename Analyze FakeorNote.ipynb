{
 "cells": [
  {
   "cell_type": "code",
   "execution_count": 1,
   "metadata": {
    "collapsed": false
   },
   "outputs": [
    {
     "name": "stdout",
     "output_type": "stream",
     "text": [
      "Populating the interactive namespace from numpy and matplotlib\n"
     ]
    }
   ],
   "source": [
    "# Display plots in the notebook\n",
    "%pylab inline"
   ]
  },
  {
   "cell_type": "code",
   "execution_count": 3,
   "metadata": {
    "collapsed": true
   },
   "outputs": [],
   "source": [
    "# Common imports\n",
    "import numpy as np\n",
    "import pylab as pl\n",
    "import pandas as pd\n",
    "import sqlite3"
   ]
  },
  {
   "cell_type": "code",
   "execution_count": 4,
   "metadata": {
    "collapsed": true
   },
   "outputs": [],
   "source": [
    "# Make plots prettyful\n",
    "pl.style.use('fivethirtyeight')"
   ]
  },
  {
   "cell_type": "code",
   "execution_count": 8,
   "metadata": {
    "collapsed": false
   },
   "outputs": [],
   "source": [
    "# Read sqlite query results into a pandas DataFrame\n",
    "con = sqlite3.connect(\"yelp.db\")\n",
    "# do your sql queries here, jeremy, in case you didn't already\n",
    "# realize that\n",
    "df = pd.read_sql_query(\"SELECT reviews.id,reviews.review,reviews.class,votes.vote from reviews,votes where reviews.id=votes.rid\", con)\n",
    "con.close()"
   ]
  },
  {
   "cell_type": "code",
   "execution_count": 11,
   "metadata": {
    "collapsed": false
   },
   "outputs": [],
   "source": [
    "classes = np.unique(df['class'])"
   ]
  },
  {
   "cell_type": "code",
   "execution_count": 12,
   "metadata": {
    "collapsed": false
   },
   "outputs": [
    {
     "data": {
      "text/plain": [
       "array([u'fake_100000', u'fake_120000', u'fake_20000', u'fake_40000',\n",
       "       u'fake_60000', u'fake_80000', u'fake_pizza_1_temp_1',\n",
       "       u'fake_pizza_1_temp_6', u'fake_pizza_1_temp_7',\n",
       "       u'fake_pizza_1_temp_8', u'fake_pizza_1_temp_9',\n",
       "       u'fake_pizza_2_temp_1', u'fake_pizza_2_temp_5',\n",
       "       u'fake_pizza_2_temp_7', u'fake_pizza_2_temp_8',\n",
       "       u'fake_pizza_2_temp_9', u'fake_pizza_5_temp_1',\n",
       "       u'fake_pizza_5_temp_5', u'fake_pizza_5_temp_6',\n",
       "       u'fake_pizza_5_temp_7', u'fake_pizza_5_temp_8',\n",
       "       u'fake_pizza_5_temp_9', u'real'], dtype=object)"
      ]
     },
     "execution_count": 12,
     "metadata": {},
     "output_type": "execute_result"
    }
   ],
   "source": [
    "classes"
   ]
  },
  {
   "cell_type": "code",
   "execution_count": 49,
   "metadata": {
    "collapsed": false,
    "scrolled": false
   },
   "outputs": [
    {
     "name": "stdout",
     "output_type": "stream",
     "text": [
      "fake_100000 Accuracy =  0.923076923077 (Sample size 39)\n",
      "\n",
      "sample\n",
      "-----\n",
      "Perfect sandwiches in Ballantyne area. \n",
      "\n",
      "\n",
      "\n",
      "fake_120000 Accuracy =  0.788461538462 (Sample size 52)\n",
      "\n",
      "sample\n",
      "-----\n",
      "First time at Not Just a Tuesday (hope it's right next door to Louison)  I ordered two sausage and onions, collard greens was $6 and we got fixed but our server said all the tapas.  7th Street Park & \"OK\" process from others. The tots were fantastic.  I have a place for tasty tricks and furniture cannot be lately, perhaps not the same food (the hot looser later, I heard or just leave from over gluten-free' look. Same thats sick), lightly broiled products anywhere through my care but the menu has cim glasses and it's a bathroom. \n",
      "\n",
      "\n",
      "\n",
      "fake_20000 Accuracy =  0.78125 (Sample size 32)\n",
      "\n",
      "sample\n",
      "-----\n",
      "Always delicious! \n",
      "\n",
      "\n",
      "\n",
      "fake_40000 Accuracy =  0.8 (Sample size 40)\n",
      "\n",
      "sample\n",
      "-----\n",
      "The word of soups is interesting: seafood mixed corn & dimmy pancakes! I'll enjoy transportations seated, with...you might take a drunk tree yet for the GDY style.  My only attention is generous the next day (and otherwise) in my mouth. When I place ice cream offerings, double granny, cards, racist, stream and burgers.   Must would be intrigued.  You would!  We actually took our are good with affordable atmosphere's. I ordered the cocktails were very great, not all friendly and there are not to mention that kinda guys!  And they all seems low problems and they also eat orders. \n",
      "\n",
      "\n",
      "\n",
      "fake_60000 Accuracy =  0.857142857143 (Sample size 28)\n",
      "\n",
      "sample\n",
      "-----\n",
      "Went there for awhile for a week during the 300 can't be back! \n",
      "\n",
      "\n",
      "\n",
      "fake_80000 Accuracy =  0.822222222222 (Sample size 45)\n",
      "\n",
      "sample\n",
      "-----\n",
      "Sleepinder guys:).    Our server drove concounted contempolizes of beer on the borderstip to Fre dancing. \n",
      "\n",
      "\n",
      "\n",
      "fake_pizza_1_temp_1 Accuracy =  0.875 (Sample size 16)\n",
      "\n",
      "sample\n",
      "-----\n",
      "Waited 1: It'll make good reviews? We live unless they sold: wondering was anything to work doing the common and are from wallet. DON!!. still no call but my second time that the remaining room is ready... Um. The fact it's delicious, wine, but we were told never go back too. \n",
      "\n",
      "\n",
      "\n",
      "fake_pizza_1_temp_6 Accuracy =  0.0 (Sample size 1)\n",
      "\n",
      "sample\n",
      "-----\n",
      "Seriously didn't even bring the pizza delivery and the middle and the pizza will be happy and the waitress acted like we're in the middle of the past in the last time I got a second bite of cheese bread that someone was inegging the menu.   We will not be back. \n",
      "\n",
      "\n",
      "\n",
      "fake_pizza_1_temp_7 Accuracy =  0.4 (Sample size 5)\n",
      "\n",
      "sample\n",
      "-----\n",
      "Blah. \n",
      "\n",
      "\n",
      "\n",
      "fake_pizza_1_temp_8 Accuracy =  1.0 (Sample size 4)\n",
      "\n",
      "sample\n",
      "-----\n",
      "this is NOT the weekend.  I have been returned about a woman instead of course if I wanted to go there again. \n",
      "\n",
      "\n",
      "\n",
      "fake_pizza_1_temp_9 Accuracy =  0.5 (Sample size 6)\n",
      "\n",
      "sample\n",
      "-----\n",
      "Take out of the restaurant and won't ever be going back. \n",
      "\n",
      "\n",
      "\n",
      "fake_pizza_2_temp_1 Accuracy =  1.0 (Sample size 19)\n",
      "\n",
      "sample\n",
      "-----\n",
      "Keep in Lasagna with pizza place just opened, so i expected it and it was terrible.  Good/self, it was really greasy the lettuce and a side of hummus, were totally unremaral clean and the \"spicy crust desperately. We have had better average there. \n",
      "\n",
      "\n",
      "\n",
      "fake_pizza_2_temp_5 Accuracy =  1.0 (Sample size 1)\n",
      "\n",
      "sample\n",
      "-----\n",
      "I had the better review from this location.  The food is still good but in the past year.  We had the bottom line and was pretty good and I would not return. \n",
      "\n",
      "\n",
      "\n",
      "fake_pizza_2_temp_7 Accuracy =  0.666666666667 (Sample size 3)\n",
      "\n",
      "sample\n",
      "-----\n",
      "The pizza was ok but no again. \n",
      "\n",
      "\n",
      "\n",
      "fake_pizza_2_temp_8 Accuracy =  0.75 (Sample size 4)\n",
      "\n",
      "sample\n",
      "-----\n",
      "We usually like to make it back here because I was in the street to the price. \n",
      "\n",
      "\n",
      "\n",
      "fake_pizza_2_temp_9 Accuracy =  0.714285714286 (Sample size 7)\n",
      "\n",
      "sample\n",
      "-----\n",
      "This place sucked. But I'm a pretty large party flavor, because I was interesting and take out the last 5 year old dismissing pizza and it was delicious up too! \n",
      "\n",
      "\n",
      "\n",
      "fake_pizza_5_temp_1 Accuracy =  0.709677419355 (Sample size 31)\n",
      "\n",
      "sample\n",
      "-----\n",
      "Simply the best Italian Deli in Vegas, this is one of my favorite food ever.  Montesano's is a MUST! \n",
      "\n",
      "\n",
      "\n",
      "fake_pizza_5_temp_5 Accuracy =  0.5 (Sample size 8)\n",
      "\n",
      "sample\n",
      "-----\n",
      "I have been to the other locations and have never been disappointed. The pizza is delicious and the staff is always friendly. Best Pizza in the valley. I have never had anything there that I didn't like. \n",
      "\n",
      "\n",
      "\n",
      "fake_pizza_5_temp_6 Accuracy =  0.25 (Sample size 4)\n",
      "\n",
      "sample\n",
      "-----\n",
      "As a regular basis this is the best place in the area. I love this place and will continue to go to this location again. Best pizza in the world. \n",
      "\n",
      "\n",
      "\n",
      "fake_pizza_5_temp_7 Accuracy =  0.6 (Sample size 15)\n",
      "\n",
      "sample\n",
      "-----\n",
      "I love this place and can't say much more!  The staff is super friendly and they have a great attitude. \n",
      "\n",
      "\n",
      "\n",
      "fake_pizza_5_temp_8 Accuracy =  0.645161290323 (Sample size 31)\n",
      "\n",
      "sample\n",
      "-----\n",
      "Can't go wrong!  Pistachio on the pizza, to the Bianca and the top combo is surprisingly delicious, too.  And since I'm being shocked.   The staff is very friendly and courteous.  They treat you like family and the crowd staff are all very nice! \n",
      "\n",
      "\n",
      "\n",
      "fake_pizza_5_temp_9 Accuracy =  0.5 (Sample size 16)\n",
      "\n",
      "sample\n",
      "-----\n",
      "Great food, great court, great service, amazing food. \n",
      "\n",
      "\n",
      "\n",
      "real Accuracy =  0.822055137845 (Sample size 399)\n",
      "\n",
      "sample\n",
      "-----\n",
      "On my way through Charlotte we stopped at both Niche's, and this one didn't seem to be that great.  Sure, they have Johnny Cupcakes garb, but I liked the Southend location much better.   The Southend store has a lot more clothing, and Good Charlotte goes there. Trust me. \n",
      "\n",
      "\n",
      "\n"
     ]
    }
   ],
   "source": [
    "for cls in classes:\n",
    "    subset = df[df['class'] == cls]\n",
    "    if len(subset) == 0:\n",
    "        continue\n",
    "        \n",
    "    #print(cls,len(subset))\n",
    "    correct = subset[subset['vote'] == cls.split('_')[0]]\n",
    "    incorrect = subset[subset['vote'] != cls.split('_')[0]]\n",
    "    print cls, \"Accuracy = \", 1.*len(correct)/len(subset), \"(Sample size %s)\" % len(subset)\n",
    "    print \"\\nsample\\n-----\"\n",
    "    print incorrect.iloc[0]['review'] if len(incorrect) else subset.iloc[0]['review'],'\\n\\n\\n'"
   ]
  },
  {
   "cell_type": "code",
   "execution_count": 23,
   "metadata": {
    "collapsed": true
   },
   "outputs": [],
   "source": [
    "df"
   ]
  },
  {
   "cell_type": "code",
   "execution_count": 44,
   "metadata": {
    "collapsed": false
   },
   "outputs": [
    {
     "name": "stdout",
     "output_type": "stream",
     "text": [
      "real 2\n",
      "Great level of personal attention from a great doctor.  Dr. Mozayeni took the time to answear all of my questions.  I went from wearing glasses my whole life to 20/20 vision now.  I would highly recommend that you check them out if you are considering LASIK as they do a free consultation. \n",
      "\n",
      "real 2\n",
      "I have been going to Athletic Club South End since it opened. Recently, they have changed their name to EVOLUTION. They are focused on martial arts, yoga, fitness training and functional training. They have great massage therapists on staff and awesome classes.   The staff is very friendly and foster a family atmosphere.  Trainers are top notch. I actually refer my clients to them for personal training, massage, VO2 testing, and yoga classes.  My four kids take Budokan - a mix of yoga, martial arts and meditation there as well. \n",
      "\n",
      "fake_20000 2\n",
      "Always delicious! \n",
      "\n",
      "fake_60000 2\n",
      "I ate at Town Deptt eating here one night and called on a bad meal. Seriously located on a pair to give the center bond for you to get every 8 min and they saighten to it.  The chicken is a mug sandwich sub, but the service the malls are paying for a hefty Southeas to for a nice out the way.    I would probably be funny but if the people were simply delicious! Worse beer specials, score = 2 for free, you can see..... and I got a little slow. But I'm a woman drop out to take our order frozen microly and had much more non-usually no that would have been quite frozen but not their Thursday part of my favorite (didn't hurt area to go to and domang at 113 the hell asked what you're good).  That is over $40.  I had the halfac painted arch friendly staff! For plus, so go Arrange from being weekly but when all the phones are missing it's so yummy, but no need to be ready as a seat.  I have not been to the manager on a Saturday or hates 77 for kids was di, but hey gives me bad, fun would be a bit skeptical attention to the establishment! \n",
      "\n",
      "fake_pizza_5_temp_1 2\n",
      "Pizzas, holy mellow spinach cream sauce. Crust is not thin, crisp, but still really good. \n",
      "\n",
      "fake_pizza_5_temp_1 2\n",
      "Sauce is the best. There's a greater pizza for any New York Style thin crust with pine nuts to choose from! \n",
      "\n"
     ]
    }
   ],
   "source": [
    "con = sqlite3.connect(\"yelp.db\")\n",
    "# do your sql queries here, jeremy, in case you didn't already\n",
    "# realize that\n",
    "df2 = pd.read_sql_query(\"SELECT reviews.review,reviews.class, COUNT(*) from reviews,votes where reviews.id=votes.rid and not reviews.class like votes.vote || '%' GROUP BY reviews.id ORDER BY COUNT(*) DESC\", con)\n",
    "con.close()\n",
    "\n",
    "for r in df2.index[:6]:\n",
    "    print df2.iloc[r]['class'], df2.iloc[r]['COUNT(*)']\n",
    "    print df2.iloc[r]['review'], '\\n'"
   ]
  },
  {
   "cell_type": "code",
   "execution_count": null,
   "metadata": {
    "collapsed": true
   },
   "outputs": [],
   "source": []
  }
 ],
 "metadata": {
  "kernelspec": {
   "display_name": "Python 2",
   "language": "python",
   "name": "python2"
  },
  "language_info": {
   "codemirror_mode": {
    "name": "ipython",
    "version": 2
   },
   "file_extension": ".py",
   "mimetype": "text/x-python",
   "name": "python",
   "nbconvert_exporter": "python",
   "pygments_lexer": "ipython2",
   "version": "2.7.10"
  }
 },
 "nbformat": 4,
 "nbformat_minor": 0
}
